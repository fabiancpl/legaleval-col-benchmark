{
 "cells": [
  {
   "cell_type": "code",
   "execution_count": null,
   "id": "c3283866",
   "metadata": {},
   "outputs": [],
   "source": [
    "import copy\n",
    "import json\n",
    "from tqdm.notebook import tqdm\n",
    "\n",
    "from datasets import Dataset\n",
    "import torch\n",
    "from transformers import (\n",
    "    AutoTokenizer,\n",
    "    AutoModelForCausalLM,\n",
    "    pipeline,\n",
    ")\n",
    "\n",
    "import anthropic\n",
    "from openai import OpenAI"
   ]
  },
  {
   "cell_type": "code",
   "execution_count": null,
   "id": "cf303073",
   "metadata": {},
   "outputs": [],
   "source": [
    "BENCHMARK_FILE = \"benchmark.jsonl\""
   ]
  },
  {
   "cell_type": "code",
   "execution_count": null,
   "id": "675cc47c",
   "metadata": {},
   "outputs": [],
   "source": [
    "PROMPT_TEMPLATE = \"\"\"Eres un abogado colombiano y se te realiza la siguiente pregunta. Si no conoces la respuesta, adivina.\n",
    "\n",
    "Situación: {}\n",
    "\n",
    "Pregunta: {}\n",
    "\n",
    "Opciones:\n",
    "a. {}\n",
    "\n",
    "b. {}\n",
    "\n",
    "c. {}\n",
    "\n",
    "d. {}\n",
    "\n",
    "Responde solo con la letra correspondiente: a, b, c o d.\n",
    "\n",
    "Respuesta:\"\"\""
   ]
  },
  {
   "cell_type": "code",
   "execution_count": null,
   "id": "cb23a2bc",
   "metadata": {},
   "outputs": [],
   "source": [
    "PROMPT_TEMPLATE_CHAT = [\n",
    "    {\n",
    "        \"role\": \"user\",\n",
    "        \"content\": \"\"\"Eres un abogado colombiano y se te realiza la siguiente pregunta. Si no conoces la respuesta, adivina.\n",
    "\n",
    "Situación: {}\n",
    "\n",
    "Pregunta: {}\n",
    "\n",
    "Opciones:\n",
    "a. {}\n",
    "\n",
    "b. {}\n",
    "\n",
    "c. {}\n",
    "\n",
    "d. {}\n",
    "\n",
    "Responde solo con la letra correspondiente: a, b, c o d.\"\"\"}]"
   ]
  },
  {
   "cell_type": "code",
   "execution_count": null,
   "id": "7d5de5a9",
   "metadata": {},
   "outputs": [],
   "source": [
    "modality = \"chat\"  # chat, None\n",
    "backend = \"anthropic\"  # hf, openai, anthropic\n",
    "# model_id = \"meta-llama/Llama-3.2-3B-Instruct\"\n",
    "model_id = \"claude-opus-4-1-20250805\"  # gpt-5, gpt-4o, claude-opus-4-1-20250805"
   ]
  },
  {
   "cell_type": "markdown",
   "id": "1199d6d7",
   "metadata": {},
   "source": [
    "## Load the data"
   ]
  },
  {
   "cell_type": "code",
   "execution_count": null,
   "id": "b2b4c04d",
   "metadata": {},
   "outputs": [],
   "source": [
    "def load_benchmark(path):\n",
    "    with open(path) as f:\n",
    "        return [json.loads(l) for l in f]"
   ]
  },
  {
   "cell_type": "code",
   "execution_count": null,
   "id": "2546b7a2",
   "metadata": {},
   "outputs": [],
   "source": [
    "ds = Dataset.from_list(load_benchmark(BENCHMARK_FILE))"
   ]
  },
  {
   "cell_type": "code",
   "execution_count": null,
   "metadata": {},
   "outputs": [],
   "source": [
    "ds"
   ]
  },
  {
   "cell_type": "markdown",
   "id": "897999f1",
   "metadata": {},
   "source": [
    "## Load the model / client"
   ]
  },
  {
   "cell_type": "code",
   "execution_count": null,
   "id": "76115f04",
   "metadata": {},
   "outputs": [],
   "source": [
    "if backend == \"openai\":\n",
    "    client = OpenAI()\n",
    "elif backend == \"anthropic\":\n",
    "    client = anthropic.Anthropic()\n",
    "elif backend == \"hf\":\n",
    "    tokenizer = AutoTokenizer.from_pretrained(model_id)\n",
    "    model = AutoModelForCausalLM.from_pretrained(model_id, device_map=\"cuda:0\")\n",
    "    \n",
    "    pipe = pipeline(\n",
    "        \"text-generation\",\n",
    "        model=model,\n",
    "        tokenizer=tokenizer,\n",
    "        device_map=model.device,\n",
    "        max_new_tokens=1,\n",
    "        do_sample=False,\n",
    "        temperature=0.0\n",
    "    )"
   ]
  },
  {
   "cell_type": "markdown",
   "id": "bff80a61",
   "metadata": {},
   "source": [
    "## Run the evaluation"
   ]
  },
  {
   "cell_type": "code",
   "execution_count": null,
   "id": "e0e5b115",
   "metadata": {},
   "outputs": [],
   "source": [
    "def format_prompt(situation, question, choices):\n",
    "    if modality == \"chat\":\n",
    "        template = copy.deepcopy(PROMPT_TEMPLATE_CHAT)\n",
    "        template[0][\"content\"] = template[0][\"content\"].format(\n",
    "            situation, question,\n",
    "            choices[0], choices[1], choices[2], choices[3]\n",
    "        )\n",
    "        return template\n",
    "    else:\n",
    "        return PROMPT_TEMPLATE.format(\n",
    "            situation, question,\n",
    "            choices[0], choices[1], choices[2], choices[3]\n",
    "        )"
   ]
  },
  {
   "cell_type": "code",
   "execution_count": null,
   "id": "db936a26",
   "metadata": {},
   "outputs": [],
   "source": [
    "@torch.no_grad()\n",
    "def generate(prompt):\n",
    "    input = tokenizer(prompt, return_tensors=\"pt\").to(model.device)\n",
    "    logits = model(**input).logits[:, -1, :]\n",
    "    return tokenizer.decode(logits.argmax()).strip().lower()"
   ]
  },
  {
   "cell_type": "code",
   "execution_count": null,
   "id": "4dd3ed11",
   "metadata": {},
   "outputs": [],
   "source": [
    "def chat(prompt):\n",
    "    if backend == \"openai\":\n",
    "        return client.responses.create(\n",
    "            model=model_id,\n",
    "            input=prompt,\n",
    "            # Required for non-reasoning models\n",
    "            max_output_tokens=16,\n",
    "            temperature=0,\n",
    "            # Optional for reasoning models\n",
    "            # reasoning={\n",
    "            #     \"effort\": \"minimal\"\n",
    "            # },\n",
    "        ).output_text\n",
    "    if backend == \"anthropic\":\n",
    "        return client.messages.create(\n",
    "            model=model_id,\n",
    "            messages=prompt,\n",
    "            max_tokens=1,\n",
    "            temperature=0,\n",
    "        ).content[0].text\n",
    "    elif backend == \"hf\":\n",
    "        return pipe(prompt)[0][\"generated_text\"][-1][\"content\"]  # type: ignore"
   ]
  },
  {
   "cell_type": "code",
   "execution_count": null,
   "id": "855422a9",
   "metadata": {},
   "outputs": [],
   "source": [
    "accuracy = {\"overall\": 0}\n",
    "n_instances = {\"overall\": len(ds)}\n",
    "\n",
    "\n",
    "for ex in tqdm(ds):\n",
    "    prompt = format_prompt(ex[\"situacion\"], ex[\"enunciado\"], ex[\"opciones\"])  # type: ignore\n",
    "\n",
    "    if modality == \"chat\":\n",
    "        output = chat(prompt)\n",
    "        if len(output) > 0:\n",
    "            output = output[0]\n",
    "    else:\n",
    "        output = generate(prompt)\n",
    "\n",
    "    group = ex[\"competencia\"]  # type: ignore\n",
    "    correct = \"abcd\"[ex[\"correcta\"]]  # type: ignore\n",
    "    result = int(output == correct)\n",
    "    if group in accuracy:\n",
    "        accuracy[group] += result\n",
    "        n_instances[group] += 1\n",
    "    else:\n",
    "        accuracy[group] = result\n",
    "        n_instances[group] = 1\n",
    "    accuracy[\"overall\"] += result\n",
    "\n",
    "for group in accuracy.keys():\n",
    "    print(f\"Accuracy ({group}): {accuracy[group] / n_instances[group]:.4f}\")"
   ]
  },
  {
   "cell_type": "markdown",
   "id": "c05ee5d1",
   "metadata": {},
   "source": [
    "## Persist the results"
   ]
  },
  {
   "cell_type": "code",
   "execution_count": null,
   "id": "5f086a0e",
   "metadata": {},
   "outputs": [],
   "source": [
    "def save_results(results, model_id):\n",
    "    with open(f\"./results/{model_id}.json\", \"w\", encoding=\"utf-8\") as f:\n",
    "        json.dump(results, f, indent=4, ensure_ascii=False)"
   ]
  },
  {
   "cell_type": "code",
   "execution_count": null,
   "id": "8f59c51e",
   "metadata": {},
   "outputs": [],
   "source": [
    "results = {}\n",
    "for group in accuracy.keys():\n",
    "    results[group] = accuracy[group] / n_instances[group]\n",
    "save_results(results, model_id.split(\"/\")[-1])"
   ]
  },
  {
   "cell_type": "code",
   "execution_count": null,
   "id": "b81fae92",
   "metadata": {},
   "outputs": [],
   "source": []
  }
 ],
 "metadata": {
  "kernelspec": {
   "display_name": "llm-bench-legaleval-co",
   "language": "python",
   "name": "python3"
  },
  "language_info": {
   "codemirror_mode": {
    "name": "ipython",
    "version": 3
   },
   "file_extension": ".py",
   "mimetype": "text/x-python",
   "name": "python",
   "nbconvert_exporter": "python",
   "pygments_lexer": "ipython3",
   "version": "3.12.7"
  }
 },
 "nbformat": 4,
 "nbformat_minor": 5
}
